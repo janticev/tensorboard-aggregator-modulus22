{
 "cells": [
  {
   "cell_type": "code",
   "execution_count": 8,
   "metadata": {},
   "outputs": [
    {
     "data": {
      "text/plain": [
       "[['annular_ring_parameterized_1024x8000_0',\n",
       "  'annular_ring_parameterized_1024x8000_1',\n",
       "  'annular_ring_parameterized_1024x8000_2',\n",
       "  'annular_ring_parameterized_1024x8000_3',\n",
       "  'annular_ring_parameterized_1024x8000_4',\n",
       "  'annular_ring_parameterized_1024x8000_5',\n",
       "  'annular_ring_parameterized_1024x8000_6',\n",
       "  'annular_ring_parameterized_1024x8000_75-11_0',\n",
       "  'annular_ring_parameterized_1024x8000_75-11_1',\n",
       "  'annular_ring_parameterized_1024x8000_75-11_2',\n",
       "  'annular_ring_parameterized_1024x8000_75-11_3',\n",
       "  'annular_ring_parameterized_1024x8000_75-11_4'],\n",
       " ['internalOnly_importance_1024x8000_7K_75-110_0',\n",
       "  'internalOnly_importance_1024x8000_7K_75-110_1',\n",
       "  'internalOnly_importance_1024x8000_7K_75-110_2',\n",
       "  'internalOnly_importance_1024x8000_7K_75-110_3',\n",
       "  'internalOnly_importance_1024x8000_7K_75-110_21'],\n",
       " ['75-11_gVxysdf_sVxyXuvYuv_lVcm_1x8_K7L6_10K60K7B_15-70_0',\n",
       "  '75-11_gVxysdf_sVxyXuvYuv_lVcm_1x8_K7L6_10K60K7B_15-70_1',\n",
       "  '75-11_gVxysdf_sVxyXuvYuv_lVcm_1x8_K7L6_10K60K7B_15-70_2',\n",
       "  '75-11_gVxysdf_sVxyXuvYuv_lVcm_1x8_K7L6_10K60K7B_15-70_3',\n",
       "  '75-11_gVxysdf_sVxyXuvYuv_lVcm_1x8_K7L6_10K60K7B_15-70_4'],\n",
       " ['SGM_1024x8000_K7L6_10KStart_60KRebuild_0',\n",
       "  'SGM_1024x8000_K7L6_10KStart_60KRebuild_1',\n",
       "  'SGM_1024x8000_K7L6_10KStart_60KRebuild_2',\n",
       "  'SGM_1024x8000_K7L6_10KStart_60KRebuild_3',\n",
       "  'SGM_1024x8000_K7L6_10KStart_60KRebuild_4']]"
      ]
     },
     "execution_count": 8,
     "metadata": {},
     "output_type": "execute_result"
    }
   ],
   "source": [
    "import os\n",
    "import shutil\n",
    "#Folder with test runs to select from\n",
    "#tFolder = 'C:/Users/jacec/OneDrive - stevens.edu/4_DATA/Server_Backup/9-17-annular/annular_ring_parameterized/outputs/'\n",
    "tFolder = 'C:/Users/John Anticev/OneDrive - stevens.edu/4_DATA/Server_Backup/10-12-annular/outputs/'\n",
    "#folder = 'C:/Users/jacec/Documents/Test_Runs/'\n",
    "folder = 'C:/Users/John Anticev/Documents/SCHOOL/aggregator_runs/' #folder where runs to aggregate are stored\n",
    "topLevel_common = '0'#filter first by this common string\n",
    "runs_common = {'annular_ring_parameterized_1024x8000':'Baseline_1024x8000',\n",
    "               'internalOnly_importance_1024x8000_7K_75-11':'11-NV-Importance',\n",
    "               '75-11_gVxysdf_sVxyXuvYuv_lVcm_1x8_K7L6_10K60K7B_15-70': '11-XuvYuv_lVcm',\n",
    "               'SGM_1024x8000_K7L6_10KStart_60KRebuild_': 'SGM'\n",
    "               }#strings that separate sub-folders, e.g. baseline, KL, SGM, Nvidia\n",
    "file_search = 'events.out.tfevents' #find files with this string\n",
    "folder_to_create = folder + topLevel_common\n",
    "runs_each = [sorted([j for j in os.listdir(tFolder) if i in j and topLevel_common in j],key=len) for i in runs_common.keys()]\n",
    "runs_each"
   ]
  },
  {
   "cell_type": "code",
   "execution_count": 9,
   "metadata": {},
   "outputs": [
    {
     "data": {
      "text/plain": [
       "[['annular_ring_parameterized_1024x8000_0',\n",
       "  'annular_ring_parameterized_1024x8000_1',\n",
       "  'annular_ring_parameterized_1024x8000_2',\n",
       "  'annular_ring_parameterized_1024x8000_3',\n",
       "  'annular_ring_parameterized_1024x8000_4'],\n",
       " ['internalOnly_importance_1024x8000_7K_75-110_0',\n",
       "  'internalOnly_importance_1024x8000_7K_75-110_1',\n",
       "  'internalOnly_importance_1024x8000_7K_75-110_2',\n",
       "  'internalOnly_importance_1024x8000_7K_75-110_3',\n",
       "  'internalOnly_importance_1024x8000_7K_75-110_21'],\n",
       " ['75-11_gVxysdf_sVxyXuvYuv_lVcm_1x8_K7L6_10K60K7B_15-70_0',\n",
       "  '75-11_gVxysdf_sVxyXuvYuv_lVcm_1x8_K7L6_10K60K7B_15-70_1',\n",
       "  '75-11_gVxysdf_sVxyXuvYuv_lVcm_1x8_K7L6_10K60K7B_15-70_2',\n",
       "  '75-11_gVxysdf_sVxyXuvYuv_lVcm_1x8_K7L6_10K60K7B_15-70_3',\n",
       "  '75-11_gVxysdf_sVxyXuvYuv_lVcm_1x8_K7L6_10K60K7B_15-70_4'],\n",
       " ['SGM_1024x8000_K7L6_10KStart_60KRebuild_0',\n",
       "  'SGM_1024x8000_K7L6_10KStart_60KRebuild_1',\n",
       "  'SGM_1024x8000_K7L6_10KStart_60KRebuild_2',\n",
       "  'SGM_1024x8000_K7L6_10KStart_60KRebuild_3',\n",
       "  'SGM_1024x8000_K7L6_10KStart_60KRebuild_4']]"
      ]
     },
     "execution_count": 9,
     "metadata": {},
     "output_type": "execute_result"
    }
   ],
   "source": [
    "min_runs = min([len(i) for i in runs_each])\n",
    "runs_each = [i[0:min_runs] for i in runs_each]\n",
    "events_each = [[list(filter(lambda x: file_search in x, os.listdir(tFolder+j)))[0] for j in i] for i in runs_each]\n",
    "runs_each"
   ]
  },
  {
   "cell_type": "code",
   "execution_count": 10,
   "metadata": {},
   "outputs": [],
   "source": [
    "os.mkdir(folder_to_create)\n",
    "for i in range(min_runs):\n",
    "    os.mkdir(folder_to_create+f'/Run_{i}')\n",
    "    for k,j in enumerate(runs_common.values()):\n",
    "        os.mkdir(folder_to_create+f'/Run_{i}'+f'/{j}')\n",
    "        shutil.copy(tFolder+runs_each[k][i]+'/'+events_each[k][i],\n",
    "                    folder_to_create+f'/Run_{i}'+f'/{j}')\n"
   ]
  }
 ],
 "metadata": {
  "kernelspec": {
   "display_name": "base",
   "language": "python",
   "name": "python3"
  },
  "language_info": {
   "codemirror_mode": {
    "name": "ipython",
    "version": 3
   },
   "file_extension": ".py",
   "mimetype": "text/x-python",
   "name": "python",
   "nbconvert_exporter": "python",
   "pygments_lexer": "ipython3",
   "version": "3.9.13"
  },
  "orig_nbformat": 4
 },
 "nbformat": 4,
 "nbformat_minor": 2
}
