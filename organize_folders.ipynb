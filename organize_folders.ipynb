{
 "cells": [
  {
   "cell_type": "code",
   "execution_count": 62,
   "metadata": {},
   "outputs": [
    {
     "data": {
      "text/plain": [
       "[['annular_ring_parameterized_512x16000_0',\n",
       "  'annular_ring_parameterized_512x16000_1',\n",
       "  'annular_ring_parameterized_512x16000_2',\n",
       "  'annular_ring_parameterized_512x16000_3',\n",
       "  'annular_ring_parameterized_512x16000_4',\n",
       "  'annular_ring_parameterized_512x16000_5',\n",
       "  'annular_ring_parameterized_512x16000_6',\n",
       "  'annular_ring_parameterized_512x16000_7'],\n",
       " ['importance_512x16000_0',\n",
       "  'importance_512x16000_1',\n",
       "  'importance_512x16000_2',\n",
       "  'importance_512x16000_3',\n",
       "  'importance_512x16000_4',\n",
       "  'importance_512x16000_6',\n",
       "  'importance_512x16000_7'],\n",
       " ['SGM_SPADE_512x16000_K30L7_sepVars_10KStart_90KRebuild_0',\n",
       "  'SGM_SPADE_512x16000_K30L7_sepVars_10KStart_90KRebuild_1',\n",
       "  'SGM_SPADE_512x16000_K30L7_sepVars_10KStart_90KRebuild_2',\n",
       "  'SGM_SPADE_512x16000_K30L7_sepVars_10KStart_90KRebuild_3',\n",
       "  'SGM_SPADE_512x16000_K30L7_sepVars_10KStart_90KRebuild_4',\n",
       "  'SGM_SPADE_512x16000_K30L7_sepVars_10KStart_90KRebuild_5',\n",
       "  'SGM_SPADE_512x16000_K30L7_sepVars_10KStart_90KRebuild_6',\n",
       "  'SGM_SPADE_512x16000_K30L7_sepVars_10KStart_90KRebuild_7',\n",
       "  'SGM_SPADE_512x16000_K30L7_sepVars_10KStart_90KRebuild_10',\n",
       "  'SGM_SPADE_512x16000_K30L7_sepVars_10KStart_90KRebuild_11',\n",
       "  'SGM_SPADE_512x16000_K30L7_sepVars_10KStart_90KRebuild_10KBatches_0',\n",
       "  'SGM_SPADE_512x16000_K30L7_sepVars_10KStart_90KRebuild_10KBatches_1',\n",
       "  'SGM_SPADE_512x16000_K30L7_sepVars_10KStart_90KRebuild_10KBatches_3']]"
      ]
     },
     "execution_count": 62,
     "metadata": {},
     "output_type": "execute_result"
    }
   ],
   "source": [
    "import os\n",
    "import shutil\n",
    "#Folder with test runs to select from\n",
    "tFolder = 'C:/Users/jacec/OneDrive - stevens.edu/4_DATA/Server_Backup/9-17-annular/annular_ring_parameterized/outputs/'\n",
    "folder = 'C:/Users/jacec/Documents/Test_Runs/'\n",
    "#folder = 'C:/Users/John Anticev/Documents/SCHOOL/aggregator_runs/' #folder where runs to aggregate are stored\n",
    "topLevel_common = '512x16000'#filter first by this common string\n",
    "runs_common = {'annular_ring_parameterized':'Baseline',\n",
    "               'importance':'NV-Importance',\n",
    "               'SGM_SPADE':'SGM_SPADE',\n",
    "               #'SGM_Only': 'SGM'\n",
    "               }#strings that separate sub-folders, e.g. baseline, KL, SGM, Nvidia\n",
    "file_search = 'events.out.tfevents' #find files with this string\n",
    "folder_to_create = folder + topLevel_common\n",
    "runs_each = [sorted([j for j in os.listdir(tFolder) if i in j and topLevel_common in j],key=len) for i in runs_common.keys()]\n",
    "runs_each"
   ]
  },
  {
   "cell_type": "code",
   "execution_count": 68,
   "metadata": {},
   "outputs": [
    {
     "data": {
      "text/plain": [
       "'annular_ring_parameterized_512x16000_0'"
      ]
     },
     "execution_count": 68,
     "metadata": {},
     "output_type": "execute_result"
    }
   ],
   "source": [
    "min_runs = min([len(i) for i in runs_each])\n",
    "runs_each = [i[0:min_runs] for i in runs_each]\n",
    "events_each = [[list(filter(lambda x: file_search in x, os.listdir(tFolder+j)))[0] for j in i] for i in runs_each]\n",
    "runs_each[0][0]"
   ]
  },
  {
   "cell_type": "code",
   "execution_count": 72,
   "metadata": {},
   "outputs": [],
   "source": [
    "os.mkdir(folder_to_create)\n",
    "for i in range(min_runs):\n",
    "    os.mkdir(folder_to_create+f'/Run_{i}')\n",
    "    for k,j in enumerate(runs_common.values()):\n",
    "        os.mkdir(folder_to_create+f'/Run_{i}'+f'/{j}')\n",
    "        shutil.copy(tFolder+runs_each[k][i]+'/'+events_each[k][i],\n",
    "                    folder_to_create+f'/Run_{i}'+f'/{j}')\n"
   ]
  },
  {
   "cell_type": "code",
   "execution_count": 6,
   "metadata": {},
   "outputs": [
    {
     "ename": "FileNotFoundError",
     "evalue": "[WinError 3] The system cannot find the path specified: 'C:/Users/John Anticev/Documents/SCHOOL/aggregator_runs/'",
     "output_type": "error",
     "traceback": [
      "\u001b[1;31m---------------------------------------------------------------------------\u001b[0m",
      "\u001b[1;31mFileNotFoundError\u001b[0m                         Traceback (most recent call last)",
      "\u001b[1;32mc:\\Users\\jacec\\Documents\\Repositories\\tensorboard-aggregator-modulus22\\organize_folders.ipynb Cell 3\u001b[0m line \u001b[0;36m2\n\u001b[0;32m      <a href='vscode-notebook-cell:/c%3A/Users/jacec/Documents/Repositories/tensorboard-aggregator-modulus22/organize_folders.ipynb#W1sZmlsZQ%3D%3D?line=0'>1</a>\u001b[0m min_runs \u001b[39m=\u001b[39m \u001b[39mmin\u001b[39m([\u001b[39mlen\u001b[39m(i) \u001b[39mfor\u001b[39;00m i \u001b[39min\u001b[39;00m runs_each])\n\u001b[1;32m----> <a href='vscode-notebook-cell:/c%3A/Users/jacec/Documents/Repositories/tensorboard-aggregator-modulus22/organize_folders.ipynb#W1sZmlsZQ%3D%3D?line=1'>2</a>\u001b[0m aggregates \u001b[39m=\u001b[39m [folder\u001b[39m+\u001b[39mf\u001b[39m+\u001b[39m\u001b[39m'\u001b[39m\u001b[39m/aggregates/\u001b[39m\u001b[39m'\u001b[39m \u001b[39mfor\u001b[39;00m f \u001b[39min\u001b[39;00m os\u001b[39m.\u001b[39;49mlistdir(folder) \u001b[39mif\u001b[39;00m os\u001b[39m.\u001b[39mpath\u001b[39m.\u001b[39misdir(folder\u001b[39m+\u001b[39mf)]\n\u001b[0;32m      <a href='vscode-notebook-cell:/c%3A/Users/jacec/Documents/Repositories/tensorboard-aggregator-modulus22/organize_folders.ipynb#W1sZmlsZQ%3D%3D?line=2'>3</a>\u001b[0m \u001b[39m#all results will be in /aggregates, separated by tags from subfolders\u001b[39;00m\n\u001b[0;32m      <a href='vscode-notebook-cell:/c%3A/Users/jacec/Documents/Repositories/tensorboard-aggregator-modulus22/organize_folders.ipynb#W1sZmlsZQ%3D%3D?line=3'>4</a>\u001b[0m \u001b[39m#find all validation files separated by subfolder\u001b[39;00m\n\u001b[0;32m      <a href='vscode-notebook-cell:/c%3A/Users/jacec/Documents/Repositories/tensorboard-aggregator-modulus22/organize_folders.ipynb#W1sZmlsZQ%3D%3D?line=4'>5</a>\u001b[0m files \u001b[39m=\u001b[39m []\n",
      "\u001b[1;31mFileNotFoundError\u001b[0m: [WinError 3] The system cannot find the path specified: 'C:/Users/John Anticev/Documents/SCHOOL/aggregator_runs/'"
     ]
    }
   ],
   "source": [
    "\n",
    "aggregates = [folder+f+'/aggregates/' for f in os.listdir(folder) if os.path.isdir(folder+f)]\n",
    "#all results will be in /aggregates, separated by tags from subfolders\n",
    "#find all validation files separated by subfolder\n",
    "files = []\n",
    "#for i in aggregates:\n",
    "#    csvs_by_testcase = [[i + g for g in os.listdir(i) if (g.endswith('.csv')) and (variablesKey in g) and (f in g)] for f in subfolders]\n",
    "#    files = files+[i for i in csvs_by_testcase if i]\n",
    "files = [[i+g for g in os.listdir(i) if g.endswith('.csv') and (variablesKey in g)] for i in aggregates]\n",
    "#files = [[aggregates + g for g in os.listdir(aggregates) if ('.csv' in g) and (f in g)] for f in subfolders] \n",
    "#list of lists of the files for each individual aggregation\n",
    "#Go through sub-list, load into dataframes with descriptive columns\n",
    "#Find unique variables, create sub-frames with them in a format for plotting\n",
    "\n"
   ]
  }
 ],
 "metadata": {
  "language_info": {
   "name": "python"
  },
  "orig_nbformat": 4
 },
 "nbformat": 4,
 "nbformat_minor": 2
}
