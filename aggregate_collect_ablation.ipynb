{
 "cells": [
  {
   "cell_type": "code",
   "execution_count": 1,
   "metadata": {},
   "outputs": [
    {
     "data": {
      "text/plain": [
       "[['annular_ring_parameterized_512x16000_0',\n",
       "  'annular_ring_parameterized_512x16000_1',\n",
       "  'annular_ring_parameterized_512x16000_2',\n",
       "  'annular_ring_parameterized_512x16000_3',\n",
       "  'annular_ring_parameterized_512x16000_4',\n",
       "  'annular_ring_parameterized_512x16000_5',\n",
       "  'annular_ring_parameterized_512x16000_6',\n",
       "  'annular_ring_parameterized_512x16000_7'],\n",
       " ['importance_512x16000_0',\n",
       "  'importance_512x16000_1',\n",
       "  'importance_512x16000_2',\n",
       "  'importance_512x16000_3',\n",
       "  'importance_512x16000_4',\n",
       "  'importance_512x16000_5',\n",
       "  'importance_512x16000_6',\n",
       "  'importance_512x16000_7'],\n",
       " ['SGM_SPADE_512x16000_K30L7_sepVars_10KStart_90KRebuild_0',\n",
       "  'SGM_SPADE_512x16000_K30L7_sepVars_10KStart_90KRebuild_1',\n",
       "  'SGM_SPADE_512x16000_K30L7_sepVars_10KStart_90KRebuild_2',\n",
       "  'SGM_SPADE_512x16000_K30L7_sepVars_10KStart_90KRebuild_3',\n",
       "  'SGM_SPADE_512x16000_K30L7_sepVars_10KStart_90KRebuild_4',\n",
       "  'SGM_SPADE_512x16000_K30L7_sepVars_10KStart_90KRebuild_5',\n",
       "  'SGM_SPADE_512x16000_K30L7_sepVars_10KStart_90KRebuild_6',\n",
       "  'SGM_SPADE_512x16000_K30L7_sepVars_10KStart_90KRebuild_7',\n",
       "  'SGM_SPADE_512x16000_K30L7_sepVars_10KStart_90KRebuild_10',\n",
       "  'SGM_SPADE_512x16000_K30L7_sepVars_10KStart_90KRebuild_11',\n",
       "  'SGM_SPADE_512x16000_K30L7_sepVars_10KStart_90KRebuild_10KBatches_0',\n",
       "  'SGM_SPADE_512x16000_K30L7_sepVars_10KStart_90KRebuild_10KBatches_1',\n",
       "  'SGM_SPADE_512x16000_K30L7_sepVars_10KStart_90KRebuild_10KBatches_3'],\n",
       " ['SGM_Only_512x8000_K30L7_sepVars_10KStart_90KRebuild_0',\n",
       "  'SGM_Only_512x8000_K30L7_sepVars_10KStart_90KRebuild_1',\n",
       "  'SGM_Only_512x8000_K30L7_sepVars_10KStart_90KRebuild_2',\n",
       "  'SGM_Only_512x8000_K30L7_sepVars_10KStart_90KRebuild_3',\n",
       "  'SGM_Only_512x8000_K30L7_sepVars_10KStart_90KRebuild_0 - Copy',\n",
       "  'SGM_Only_512x8000_K30L7_sepVars_10KStart_90KRebuild_1 - Copy',\n",
       "  'SGM_Only_512x8000_K30L7_sepVars_10KStart_90KRebuild_2 - Copy',\n",
       "  'SGM_Only_512x8000_K30L7_sepVars_10KStart_90KRebuild_3 - Copy']]"
      ]
     },
     "execution_count": 1,
     "metadata": {},
     "output_type": "execute_result"
    }
   ],
   "source": [
    "import os\n",
    "import shutil\n",
    "#Folder with test runs to select from\n",
    "#tFolder = 'C:/Users/jacec/OneDrive - stevens.edu/4_DATA/Server_Backup/9-17-annular/annular_ring_parameterized/outputs/'\n",
    "tFolder = 'C:/Users/John Anticev/OneDrive - stevens.edu/4_DATA/Server_Backup/9-17-annular/annular_ring_parameterized/outputs/'\n",
    "#folder = 'C:/Users/jacec/Documents/Test_Runs/'\n",
    "folder = 'C:/Users/John Anticev/Documents/SCHOOL/aggregator_runs/' #folder where runs to aggregate are stored\n",
    "topLevel_common = '512x'#filter first by this common string\n",
    "runs_common = {'annular_ring_parameterized_512x16000':'Baseline',\n",
    "               'importance_512x16000':'NV-Importance',\n",
    "               'SGM_SPADE_512x16000':'SGM_SPADE',\n",
    "               'SGM_Only_512x8000': 'SGM'\n",
    "               }#strings that separate sub-folders, e.g. baseline, KL, SGM, Nvidia\n",
    "file_search = 'events.out.tfevents' #find files with this string\n",
    "folder_to_create = folder + topLevel_common\n",
    "runs_each = [sorted([j for j in os.listdir(tFolder) if i in j and topLevel_common in j],key=len) for i in runs_common.keys()]\n",
    "runs_each"
   ]
  },
  {
   "cell_type": "code",
   "execution_count": 2,
   "metadata": {},
   "outputs": [
    {
     "data": {
      "text/plain": [
       "'annular_ring_parameterized_512x16000_0'"
      ]
     },
     "execution_count": 2,
     "metadata": {},
     "output_type": "execute_result"
    }
   ],
   "source": [
    "min_runs = min([len(i) for i in runs_each])\n",
    "runs_each = [i[0:min_runs] for i in runs_each]\n",
    "events_each = [[list(filter(lambda x: file_search in x, os.listdir(tFolder+j)))[0] for j in i] for i in runs_each]\n",
    "runs_each[0][0]"
   ]
  },
  {
   "cell_type": "code",
   "execution_count": 3,
   "metadata": {},
   "outputs": [],
   "source": [
    "os.mkdir(folder_to_create)\n",
    "for i in range(min_runs):\n",
    "    os.mkdir(folder_to_create+f'/Run_{i}')\n",
    "    for k,j in enumerate(runs_common.values()):\n",
    "        os.mkdir(folder_to_create+f'/Run_{i}'+f'/{j}')\n",
    "        shutil.copy(tFolder+runs_each[k][i]+'/'+events_each[k][i],\n",
    "                    folder_to_create+f'/Run_{i}'+f'/{j}')\n"
   ]
  }
 ],
 "metadata": {
  "kernelspec": {
   "display_name": "base",
   "language": "python",
   "name": "python3"
  },
  "language_info": {
   "codemirror_mode": {
    "name": "ipython",
    "version": 3
   },
   "file_extension": ".py",
   "mimetype": "text/x-python",
   "name": "python",
   "nbconvert_exporter": "python",
   "pygments_lexer": "ipython3",
   "version": "3.9.13"
  },
  "orig_nbformat": 4
 },
 "nbformat": 4,
 "nbformat_minor": 2
}
