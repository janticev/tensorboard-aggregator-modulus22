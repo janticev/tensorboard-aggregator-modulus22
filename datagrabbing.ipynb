{
 "cells": [
  {
   "cell_type": "code",
   "execution_count": null,
   "metadata": {},
   "outputs": [],
   "source": [
    "import pandas as pd\n",
    "import os\n",
    "variablesKey = \"Validators\"\n",
    "variablesSplits = [\"_l2_relative_error_\"]\n",
    "variablesRename = [\"0.75\",\"0.85\",\"1.0\"]\n",
    "variablesID = [\"validator_\"]\n",
    "subfolders = [\"baseline\",\"SGM_SPADE\"]\n",
    "folder = \"C:\\\\Users\\\\jacec\\\\Documents\\\\Test_Runs\"\n",
    "subfolders = [f for f in os.listdir(folder) if os.path.isdir(f)]\n",
    "aggregates = [f + \"\\\\aggregates\\\\\" for f in subfolders]\n",
    "files = [[g+f for g in aggregates] for f in subfolders] \n",
    "#list of lists of the files for each individual aggregation\n",
    "#Go through sub-list, load into dataframes with descriptive columns\n",
    "#Find unique variables, create sub-frames with them in a format for plotting\n",
    "#plot\n",
    "filepaths = [f for f in os.listdir(f\"C:\\\\Users\\\\John Anticev\\\\OneDrive - stevens.edu\\\\SIMNET\\\\{folder}\") if f.endswith('.csv')]\n",
    "os.chdir(f\"C:\\\\Users\\\\John Anticev\\\\OneDrive - stevens.edu\\\\SIMNET\\\\{folder}\")\n"
   ]
  },
  {
   "cell_type": "code",
   "execution_count": null,
   "metadata": {},
   "outputs": [],
   "source": [
    "\n",
    "#df = pd.concat(map(pd.read_csv, filepaths),axis=1)\n",
    "#curr_cols = df.columns.values()\n",
    "#splitter = lambda x: x.split('-outputs_')[1].split('-tag-')[0] ##three_fin\n",
    "#splitter = lambda x: x.split('-outputs_')[1].split('-tag-')[0] ##annular\n",
    "splitter = lambda x: x.split('run-')[1].split('-tag-')[0] ##ldc\n",
    "df = pd.concat(map(lambda x: pd.read_csv(x).rename(\n",
    "            columns = {'Wall time':splitter(x)+'_Walltime',\n",
    "                       'Step':splitter(x)+'_Step',\n",
    "                       'Value':splitter(x)+'_Value:'+x.split('relative_error_')[1].split('.csv')[0]}), filepaths),axis=1)\n",
    "df = df.loc[:,~df.columns.duplicated()].copy()\n",
    "scaleCols = df.filter(like='Walltime').columns.values\n",
    "import numpy as np\n",
    "new_df = df.apply(lambda x: np.divide(x-x[0],3600) if x.name in scaleCols else x)\n",
    "new_df.to_csv(f'C:\\\\Users\\\\John Anticev\\\\OneDrive - stevens.edu\\\\SIMNET\\\\{folder}\\\\output.csv')"
   ]
  }
 ],
 "metadata": {
  "language_info": {
   "name": "python"
  },
  "orig_nbformat": 4
 },
 "nbformat": 4,
 "nbformat_minor": 2
}
