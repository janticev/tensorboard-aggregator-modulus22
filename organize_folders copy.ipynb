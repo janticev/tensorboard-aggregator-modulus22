{
 "cells": [
  {
   "cell_type": "code",
   "execution_count": 12,
   "metadata": {},
   "outputs": [
    {
     "data": {
      "text/plain": [
       "[['ldc_2d_zeroEq - Copy',\n",
       "  'ldc_2d_zeroEq - Copy (0)',\n",
       "  'ldc_2d_zeroEq - Copy (2)'],\n",
       " ['ldc_2d_zeroEq_500x4000 - Copy',\n",
       "  'ldc_2d_zeroEq_500x4000 - Copy(0)',\n",
       "  'ldc_2d_zeroEq_500x4000 - Copy (2)'],\n",
       " ['ldc_2d_zeroEq_Importance_sampling_500x1000_10KE',\n",
       "  'ldc_2d_zeroEq_Importance_sampling_500x1000_10KE_1',\n",
       "  'ldc_2d_zeroEq_Importance_sampling_500x1000_10KE_2'],\n",
       " ['ldc_2d_zeroEq_Graphs_500UV_0',\n",
       "  'ldc_2d_zeroEq_Graphs_500UV_1',\n",
       "  'ldc_2d_zeroEq_Graphs_500UV_2']]"
      ]
     },
     "execution_count": 12,
     "metadata": {},
     "output_type": "execute_result"
    }
   ],
   "source": [
    "import os\n",
    "import shutil\n",
    "#Folder with test runs to select from\n",
    "#tFolder = 'C:/Users/jacec/OneDrive - stevens.edu/4_DATA/Server_Backup/9-17-annular/annular_ring_parameterized/outputs/'\n",
    "tFolder = 'C:/Users/John Anticev/OneDrive - stevens.edu/4_DATA/Server_Backup/9-17-annular/ldc/outputs/FOR ICLR24/'\n",
    "#folder = 'C:/Users/jacec/Documents/Test_Runs/'\n",
    "folder = 'C:/Users/John Anticev/Documents/SCHOOL/aggregator_runs/' #folder where runs to aggregate are stored\n",
    "topLevel_common = 'ldc'#filter first by this common string\n",
    "runs_common = {'q - Copy':'Baseline_4M',\n",
    "               '4000 - Copy':'Baseline_500K',\n",
    "               '500x1000':'Modulus_IS_500K',\n",
    "               '500UV':'SGM_500K',\n",
    "               }#strings that separate sub-folders, e.g. baseline, KL, SGM, Nvidia\n",
    "file_search = 'events.out.tfevents' #find files with this string\n",
    "folder_to_create = folder + topLevel_common\n",
    "runs_each = [sorted([j for j in os.listdir(tFolder) if i in j and topLevel_common in j],key=len) for i in runs_common.keys()]\n",
    "runs_each"
   ]
  },
  {
   "cell_type": "code",
   "execution_count": 13,
   "metadata": {},
   "outputs": [
    {
     "data": {
      "text/plain": [
       "'ldc_2d_zeroEq - Copy'"
      ]
     },
     "execution_count": 13,
     "metadata": {},
     "output_type": "execute_result"
    }
   ],
   "source": [
    "min_runs = min([len(i) for i in runs_each])\n",
    "runs_each = [i[0:min_runs] for i in runs_each]\n",
    "events_each = [[list(filter(lambda x: file_search in x, os.listdir(tFolder+j)))[0] for j in i] for i in runs_each]\n",
    "runs_each[0][0]"
   ]
  },
  {
   "cell_type": "code",
   "execution_count": 14,
   "metadata": {},
   "outputs": [],
   "source": [
    "os.mkdir(folder_to_create)\n",
    "for i in range(min_runs):\n",
    "    os.mkdir(folder_to_create+f'/Run_{i}')\n",
    "    for k,j in enumerate(runs_common.values()):\n",
    "        os.mkdir(folder_to_create+f'/Run_{i}'+f'/{j}')\n",
    "        shutil.copy(tFolder+runs_each[k][i]+'/'+events_each[k][i],\n",
    "                    folder_to_create+f'/Run_{i}'+f'/{j}')\n"
   ]
  }
 ],
 "metadata": {
  "kernelspec": {
   "display_name": "base",
   "language": "python",
   "name": "python3"
  },
  "language_info": {
   "codemirror_mode": {
    "name": "ipython",
    "version": 3
   },
   "file_extension": ".py",
   "mimetype": "text/x-python",
   "name": "python",
   "nbconvert_exporter": "python",
   "pygments_lexer": "ipython3",
   "version": "3.9.13"
  },
  "orig_nbformat": 4
 },
 "nbformat": 4,
 "nbformat_minor": 2
}
