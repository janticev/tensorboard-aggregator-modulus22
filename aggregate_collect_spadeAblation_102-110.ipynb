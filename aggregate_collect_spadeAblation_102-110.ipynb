{
 "cells": [
  {
   "cell_type": "code",
   "execution_count": 1,
   "metadata": {},
   "outputs": [
    {
     "data": {
      "text/plain": [
       "[['internalOnly_importance_1024x8000_7K_0',\n",
       "  'internalOnly_importance_1024x8000_7K_1',\n",
       "  'internalOnly_importance_1024x8000_7K_2',\n",
       "  'internalOnly_importance_1024x8000_7K_3',\n",
       "  'internalOnly_importance_1024x8000_7K_4',\n",
       "  'internalOnly_importance_1024x8000_7K_5',\n",
       "  'internalOnly_importance_1024x8000_7K_6',\n",
       "  'internalOnly_importance_1024x8000_7K_75-105_0',\n",
       "  'internalOnly_importance_1024x8000_7K_75-105_1',\n",
       "  'internalOnly_importance_1024x8000_7K_75-105_2',\n",
       "  'internalOnly_importance_1024x8000_7K_75-105_3',\n",
       "  'internalOnly_importance_1024x8000_7K_75-110_0',\n",
       "  'internalOnly_importance_1024x8000_7K_75-110_1',\n",
       "  'internalOnly_importance_1024x8000_7K_75-110_2',\n",
       "  'internalOnly_importance_1024x8000_7K_75-110_3'],\n",
       " ['75-102_gVxysdf_sVxyRuvp_lVcmXuvYuv_1x8_K7L6_10K60K7B_15-70_0',\n",
       "  '75-102_gVxysdf_sVxyRuvp_lVcmXuvYuv_1x8_K7L6_10K60K7B_15-70_1',\n",
       "  '75-102_gVxysdf_sVxyRuvp_lVcmXuvYuv_1x8_K7L6_10K60K7B_15-70_2',\n",
       "  '75-102_gVxysdf_sVxyRuvp_lVcmXuvYuv_1x8_K7L6_10K60K7B_15-70_3',\n",
       "  '75-102_gVxysdf_sVxyRuvp_lVcmXuvYuv_1x8_K7L6_10K60K7B_15-70_4'],\n",
       " ['75-105_gVxysdf_sVxyRuvp_lVcmXuvYuv_1x8_K7L6_10K60K7B_15-70_0',\n",
       "  '75-105_gVxysdf_sVxyRuvp_lVcmXuvYuv_1x8_K7L6_10K60K7B_15-70_1',\n",
       "  '75-105_gVxysdf_sVxyRuvp_lVcmXuvYuv_1x8_K7L6_10K60K7B_15-70_2',\n",
       "  '75-105_gVxysdf_sVxyRuvp_lVcmXuvYuv_1x8_K7L6_10K60K7B_15-70_3',\n",
       "  '75-105_gVxysdf_sVxyRuvp_lVcmXuvYuv_1x8_K7L6_10K60K7B_15-70_4'],\n",
       " ['75-11_gVxysdf_sVxyRuvp_lVcmXuvYuv_1x8_K7L6_10K60K7B_15-70_0',\n",
       "  '75-11_gVxysdf_sVxyRuvp_lVcmXuvYuv_1x8_K7L6_10K60K7B_15-70_1',\n",
       "  '75-11_gVxysdf_sVxyRuvp_lVcmXuvYuv_1x8_K7L6_10K60K7B_15-70_2',\n",
       "  '75-11_gVxysdf_sVxyRuvp_lVcmXuvYuv_1x8_K7L6_10K60K7B_15-70_3',\n",
       "  '75-11_gVxysdf_sVxyRuvp_lVcmXuvYuv_1x8_K7L6_10K60K7B_15-70_4']]"
      ]
     },
     "execution_count": 1,
     "metadata": {},
     "output_type": "execute_result"
    }
   ],
   "source": [
    "import os\n",
    "import shutil\n",
    "#Folder with test runs to select from\n",
    "#tFolder = 'C:/Users/jacec/OneDrive - stevens.edu/4_DATA/Server_Backup/9-17-annular/annular_ring_parameterized/outputs/'\n",
    "tFolder = 'C:/Users/John Anticev/OneDrive - stevens.edu/4_DATA/Server_Backup/10-12-annular/outputs/'\n",
    "#folder = 'C:/Users/jacec/Documents/Test_Runs/'\n",
    "folder = 'C:/Users/John Anticev/Documents/SCHOOL/aggregator_runs/' #folder where runs to aggregate are stored\n",
    "topLevel_common = '0' #filter first by this common string\n",
    "runs_common = {'internalOnly_importance_1024x8000':'NV-Importance',\n",
    "               '75-102_gVxysdf_sVxyRuvp_lVcmXuvYuv_1x8_K7L6_10K60K7B_15-70':'102-Ruvp_lVcmXuvYuv',\n",
    "               '75-105_gVxysdf_sVxyRuvp_lVcmXuvYuv_1x8_K7L6_10K60K7B_15-70':'105-Ruvp_lVcmXuvYuv',\n",
    "               '75-11_gVxysdf_sVxyRuvp_lVcmXuvYuv_1x8_K7L6_10K60K7B_15-70':'11-Ruvp_lVcmXuvYuv',\n",
    "               }#strings that separate sub-folders, e.g. baseline, KL, SGM, Nvidia\n",
    "file_search = 'events.out.tfevents' #find files with this string\n",
    "folder_to_create = folder + topLevel_common\n",
    "runs_each = [sorted([j for j in os.listdir(tFolder) if i in j and topLevel_common in j],key=len) for i in runs_common.keys()]\n",
    "runs_each"
   ]
  },
  {
   "cell_type": "code",
   "execution_count": 2,
   "metadata": {},
   "outputs": [
    {
     "data": {
      "text/plain": [
       "[['internalOnly_importance_1024x8000_7K_0',\n",
       "  'internalOnly_importance_1024x8000_7K_1',\n",
       "  'internalOnly_importance_1024x8000_7K_2',\n",
       "  'internalOnly_importance_1024x8000_7K_3',\n",
       "  'internalOnly_importance_1024x8000_7K_4'],\n",
       " ['75-102_gVxysdf_sVxyRuvp_lVcmXuvYuv_1x8_K7L6_10K60K7B_15-70_0',\n",
       "  '75-102_gVxysdf_sVxyRuvp_lVcmXuvYuv_1x8_K7L6_10K60K7B_15-70_1',\n",
       "  '75-102_gVxysdf_sVxyRuvp_lVcmXuvYuv_1x8_K7L6_10K60K7B_15-70_2',\n",
       "  '75-102_gVxysdf_sVxyRuvp_lVcmXuvYuv_1x8_K7L6_10K60K7B_15-70_3',\n",
       "  '75-102_gVxysdf_sVxyRuvp_lVcmXuvYuv_1x8_K7L6_10K60K7B_15-70_4'],\n",
       " ['75-105_gVxysdf_sVxyRuvp_lVcmXuvYuv_1x8_K7L6_10K60K7B_15-70_0',\n",
       "  '75-105_gVxysdf_sVxyRuvp_lVcmXuvYuv_1x8_K7L6_10K60K7B_15-70_1',\n",
       "  '75-105_gVxysdf_sVxyRuvp_lVcmXuvYuv_1x8_K7L6_10K60K7B_15-70_2',\n",
       "  '75-105_gVxysdf_sVxyRuvp_lVcmXuvYuv_1x8_K7L6_10K60K7B_15-70_3',\n",
       "  '75-105_gVxysdf_sVxyRuvp_lVcmXuvYuv_1x8_K7L6_10K60K7B_15-70_4'],\n",
       " ['75-11_gVxysdf_sVxyRuvp_lVcmXuvYuv_1x8_K7L6_10K60K7B_15-70_0',\n",
       "  '75-11_gVxysdf_sVxyRuvp_lVcmXuvYuv_1x8_K7L6_10K60K7B_15-70_1',\n",
       "  '75-11_gVxysdf_sVxyRuvp_lVcmXuvYuv_1x8_K7L6_10K60K7B_15-70_2',\n",
       "  '75-11_gVxysdf_sVxyRuvp_lVcmXuvYuv_1x8_K7L6_10K60K7B_15-70_3',\n",
       "  '75-11_gVxysdf_sVxyRuvp_lVcmXuvYuv_1x8_K7L6_10K60K7B_15-70_4']]"
      ]
     },
     "execution_count": 2,
     "metadata": {},
     "output_type": "execute_result"
    }
   ],
   "source": [
    "min_runs = min([len(i) for i in runs_each])\n",
    "runs_each = [i[0:min_runs] for i in runs_each]\n",
    "events_each = [[list(filter(lambda x: file_search in x, os.listdir(tFolder+j)))[0] for j in i] for i in runs_each]\n",
    "runs_each"
   ]
  },
  {
   "cell_type": "code",
   "execution_count": 3,
   "metadata": {},
   "outputs": [],
   "source": [
    "os.mkdir(folder_to_create)\n",
    "for i in range(min_runs):\n",
    "    os.mkdir(folder_to_create+f'/Run_{i}')\n",
    "    for k,j in enumerate(runs_common.values()):\n",
    "        os.mkdir(folder_to_create+f'/Run_{i}'+f'/{j}')\n",
    "        shutil.copy(tFolder+runs_each[k][i]+'/'+events_each[k][i],\n",
    "                    folder_to_create+f'/Run_{i}'+f'/{j}')\n"
   ]
  }
 ],
 "metadata": {
  "kernelspec": {
   "display_name": "base",
   "language": "python",
   "name": "python3"
  },
  "language_info": {
   "codemirror_mode": {
    "name": "ipython",
    "version": 3
   },
   "file_extension": ".py",
   "mimetype": "text/x-python",
   "name": "python",
   "nbconvert_exporter": "python",
   "pygments_lexer": "ipython3",
   "version": "3.9.13"
  },
  "orig_nbformat": 4
 },
 "nbformat": 4,
 "nbformat_minor": 2
}
